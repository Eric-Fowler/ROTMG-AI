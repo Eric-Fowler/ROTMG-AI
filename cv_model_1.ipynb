{
 "cells": [
  {
   "attachments": {},
   "cell_type": "markdown",
   "metadata": {},
   "source": [
    " - https://github.com/NEGU93/cvnn"
   ]
  },
  {
   "cell_type": "code",
   "execution_count": 20,
   "metadata": {},
   "outputs": [],
   "source": [
    "import numpy as np\n",
    "import tensorflow as tf\n",
    "import matplotlib\n",
    "# import cvnn.layers as complex_layers\n",
    "from cvnn import layers\n",
    "from cvnn import activation_functions"
   ]
  },
  {
   "cell_type": "code",
   "execution_count": 21,
   "metadata": {},
   "outputs": [],
   "source": [
    "init1='glorot_uniform'\n",
    "init2='glorot_uniform'\n",
    "model = tf.keras.Sequential([\n",
    "    layers.ComplexFlatten(input_shape=(28, 28)),\n",
    "    layers.ComplexDense(128, activation='cart_relu', dtype=np.float32, kernel_initializer=init1),\n",
    "    layers.ComplexDense(10, dtype=np.float32, kernel_initializer=init2)\n",
    "])"
   ]
  },
  {
   "cell_type": "code",
   "execution_count": 30,
   "metadata": {},
   "outputs": [
    {
     "ename": "TypeError",
     "evalue": "Layer input_spec must be an instance of InputSpec. Got: InputSpec(min_ndim=4)",
     "output_type": "error",
     "traceback": [
      "\u001b[1;31m---------------------------------------------------------------------------\u001b[0m",
      "\u001b[1;31mTypeError\u001b[0m                                 Traceback (most recent call last)",
      "Cell \u001b[1;32mIn[30], line 15\u001b[0m\n\u001b[0;32m     13\u001b[0m     out \u001b[39m=\u001b[39m layers\u001b[39m.\u001b[39mComplexConv2D(\u001b[39m4\u001b[39m, activation\u001b[39m=\u001b[39mactivation_functions\u001b[39m.\u001b[39mcart_relu, kernel_size\u001b[39m=\u001b[39m\u001b[39m3\u001b[39m)(c3)\n\u001b[0;32m     14\u001b[0m     \u001b[39mreturn\u001b[39;00m tf\u001b[39m.\u001b[39mkeras\u001b[39m.\u001b[39mModel(inputs, out)\n\u001b[1;32m---> 15\u001b[0m newmodel \u001b[39m=\u001b[39m get_model()\n",
      "Cell \u001b[1;32mIn[30], line 6\u001b[0m, in \u001b[0;36mget_model\u001b[1;34m()\u001b[0m\n\u001b[0;32m      4\u001b[0m \u001b[39mdef\u001b[39;00m \u001b[39mget_model\u001b[39m():\n\u001b[0;32m      5\u001b[0m     inputs \u001b[39m=\u001b[39m layers\u001b[39m.\u001b[39mComplexInput(input_shape\u001b[39m=\u001b[39m(\u001b[39m128\u001b[39m, \u001b[39m128\u001b[39m, \u001b[39m3\u001b[39m))\n\u001b[1;32m----> 6\u001b[0m     c0 \u001b[39m=\u001b[39m layers\u001b[39m.\u001b[39;49mComplexConv2D(\u001b[39m32\u001b[39;49m, activation\u001b[39m=\u001b[39;49m\u001b[39m'\u001b[39;49m\u001b[39msigmoid\u001b[39;49m\u001b[39m'\u001b[39;49m, kernel_size\u001b[39m=\u001b[39;49m\u001b[39m3\u001b[39;49m)(inputs)\n\u001b[0;32m      7\u001b[0m     c1 \u001b[39m=\u001b[39m layers\u001b[39m.\u001b[39mComplexConv2D(\u001b[39m32\u001b[39m, activation\u001b[39m=\u001b[39mactivation_functions\u001b[39m.\u001b[39mcart_relu, kernel_size\u001b[39m=\u001b[39m\u001b[39m3\u001b[39m)(c0)\n\u001b[0;32m      8\u001b[0m     c2 \u001b[39m=\u001b[39m layers\u001b[39m.\u001b[39mComplexMaxPooling2D(pool_size\u001b[39m=\u001b[39m(\u001b[39m2\u001b[39m, \u001b[39m2\u001b[39m), strides\u001b[39m=\u001b[39m(\u001b[39m2\u001b[39m, \u001b[39m2\u001b[39m), padding\u001b[39m=\u001b[39m\u001b[39m'\u001b[39m\u001b[39mvalid\u001b[39m\u001b[39m'\u001b[39m)(c1)\n",
      "File \u001b[1;32md:\\Programming\\Anaconda\\envs\\ROTMGAI\\lib\\site-packages\\cvnn\\layers.py:717\u001b[0m, in \u001b[0;36mComplexConv2D.__init__\u001b[1;34m(self, filters, kernel_size, strides, padding, data_format, dilation_rate, groups, activation, use_bias, dtype, kernel_initializer, bias_initializer, kernel_regularizer, bias_regularizer, activity_regularizer, kernel_constraint, bias_constraint, **kwargs)\u001b[0m\n\u001b[0;32m    671\u001b[0m \u001b[39mdef\u001b[39;00m \u001b[39m__init__\u001b[39m(\u001b[39mself\u001b[39m, filters, kernel_size, strides\u001b[39m=\u001b[39m(\u001b[39m1\u001b[39m, \u001b[39m1\u001b[39m), padding\u001b[39m=\u001b[39m\u001b[39m'\u001b[39m\u001b[39mvalid\u001b[39m\u001b[39m'\u001b[39m, data_format\u001b[39m=\u001b[39m\u001b[39mNone\u001b[39;00m, dilation_rate\u001b[39m=\u001b[39m(\u001b[39m1\u001b[39m, \u001b[39m1\u001b[39m),\n\u001b[0;32m    672\u001b[0m              groups\u001b[39m=\u001b[39m\u001b[39m1\u001b[39m, activation\u001b[39m=\u001b[39m\u001b[39mNone\u001b[39;00m, use_bias\u001b[39m=\u001b[39m\u001b[39mTrue\u001b[39;00m, dtype\u001b[39m=\u001b[39mDEFAULT_COMPLEX_TYPE,\n\u001b[0;32m    673\u001b[0m              kernel_initializer\u001b[39m=\u001b[39mComplexGlorotUniform(), bias_initializer\u001b[39m=\u001b[39mZeros(),\n\u001b[0;32m    674\u001b[0m              kernel_regularizer\u001b[39m=\u001b[39m\u001b[39mNone\u001b[39;00m, bias_regularizer\u001b[39m=\u001b[39m\u001b[39mNone\u001b[39;00m, activity_regularizer\u001b[39m=\u001b[39m\u001b[39mNone\u001b[39;00m,\n\u001b[0;32m    675\u001b[0m              kernel_constraint\u001b[39m=\u001b[39m\u001b[39mNone\u001b[39;00m, bias_constraint\u001b[39m=\u001b[39m\u001b[39mNone\u001b[39;00m, \u001b[39m*\u001b[39m\u001b[39m*\u001b[39mkwargs):\n\u001b[0;32m    676\u001b[0m     \u001b[39m\"\"\"\u001b[39;00m\n\u001b[0;32m    677\u001b[0m \u001b[39m    :param filters: Integer, the dimensionality of the output space (i.e. the number of output filters in the convolution).\u001b[39;00m\n\u001b[0;32m    678\u001b[0m \u001b[39m    :param kernel_size: An integer or tuple/list of 2 integers, specifying the height \u001b[39;00m\n\u001b[1;32m   (...)\u001b[0m\n\u001b[0;32m    715\u001b[0m \u001b[39m    :param bias_constraint: Constraint function applied to the bias vector (see `keras.constraints`).\u001b[39;00m\n\u001b[0;32m    716\u001b[0m \u001b[39m    \"\"\"\u001b[39;00m\n\u001b[1;32m--> 717\u001b[0m     \u001b[39msuper\u001b[39m(ComplexConv2D, \u001b[39mself\u001b[39m)\u001b[39m.\u001b[39m\u001b[39m__init__\u001b[39m(\n\u001b[0;32m    718\u001b[0m         rank\u001b[39m=\u001b[39m\u001b[39m2\u001b[39m, dtype\u001b[39m=\u001b[39mdtype,\n\u001b[0;32m    719\u001b[0m         filters\u001b[39m=\u001b[39mfilters,\n\u001b[0;32m    720\u001b[0m         kernel_size\u001b[39m=\u001b[39mkernel_size,\n\u001b[0;32m    721\u001b[0m         strides\u001b[39m=\u001b[39mstrides,\n\u001b[0;32m    722\u001b[0m         padding\u001b[39m=\u001b[39mpadding,\n\u001b[0;32m    723\u001b[0m         data_format\u001b[39m=\u001b[39mdata_format,\n\u001b[0;32m    724\u001b[0m         dilation_rate\u001b[39m=\u001b[39mdilation_rate,\n\u001b[0;32m    725\u001b[0m         groups\u001b[39m=\u001b[39mgroups,\n\u001b[0;32m    726\u001b[0m         activation\u001b[39m=\u001b[39mactivations\u001b[39m.\u001b[39mget(activation),\n\u001b[0;32m    727\u001b[0m         use_bias\u001b[39m=\u001b[39muse_bias,\n\u001b[0;32m    728\u001b[0m         kernel_initializer\u001b[39m=\u001b[39minitializers\u001b[39m.\u001b[39mget(kernel_initializer),\n\u001b[0;32m    729\u001b[0m         bias_initializer\u001b[39m=\u001b[39minitializers\u001b[39m.\u001b[39mget(bias_initializer),\n\u001b[0;32m    730\u001b[0m         kernel_regularizer\u001b[39m=\u001b[39mregularizers\u001b[39m.\u001b[39mget(kernel_regularizer),\n\u001b[0;32m    731\u001b[0m         bias_regularizer\u001b[39m=\u001b[39mregularizers\u001b[39m.\u001b[39mget(bias_regularizer),\n\u001b[0;32m    732\u001b[0m         activity_regularizer\u001b[39m=\u001b[39mregularizers\u001b[39m.\u001b[39mget(activity_regularizer),\n\u001b[0;32m    733\u001b[0m         kernel_constraint\u001b[39m=\u001b[39mconstraints\u001b[39m.\u001b[39mget(kernel_constraint),\n\u001b[0;32m    734\u001b[0m         bias_constraint\u001b[39m=\u001b[39mconstraints\u001b[39m.\u001b[39mget(bias_constraint),\n\u001b[0;32m    735\u001b[0m         \u001b[39m*\u001b[39m\u001b[39m*\u001b[39mkwargs)\n",
      "File \u001b[1;32md:\\Programming\\Anaconda\\envs\\ROTMGAI\\lib\\site-packages\\cvnn\\layers.py:329\u001b[0m, in \u001b[0;36mComplexConv.__init__\u001b[1;34m(self, rank, filters, kernel_size, dtype, strides, padding, data_format, dilation_rate, groups, activation, use_bias, kernel_initializer, bias_initializer, kernel_regularizer, bias_regularizer, activity_regularizer, kernel_constraint, bias_constraint, trainable, name, conv_op, **kwargs)\u001b[0m\n\u001b[0;32m    327\u001b[0m \u001b[39mself\u001b[39m\u001b[39m.\u001b[39mkernel_constraint \u001b[39m=\u001b[39m constraints\u001b[39m.\u001b[39mget(kernel_constraint)\n\u001b[0;32m    328\u001b[0m \u001b[39mself\u001b[39m\u001b[39m.\u001b[39mbias_constraint \u001b[39m=\u001b[39m constraints\u001b[39m.\u001b[39mget(bias_constraint)\n\u001b[1;32m--> 329\u001b[0m \u001b[39mself\u001b[39m\u001b[39m.\u001b[39minput_spec \u001b[39m=\u001b[39m InputSpec(min_ndim\u001b[39m=\u001b[39m\u001b[39mself\u001b[39m\u001b[39m.\u001b[39mrank \u001b[39m+\u001b[39m \u001b[39m2\u001b[39m)\n\u001b[0;32m    331\u001b[0m \u001b[39mself\u001b[39m\u001b[39m.\u001b[39m_validate_init()\n\u001b[0;32m    332\u001b[0m \u001b[39mself\u001b[39m\u001b[39m.\u001b[39m_is_causal \u001b[39m=\u001b[39m \u001b[39mself\u001b[39m\u001b[39m.\u001b[39mpadding \u001b[39m==\u001b[39m \u001b[39m'\u001b[39m\u001b[39mcausal\u001b[39m\u001b[39m'\u001b[39m\n",
      "File \u001b[1;32md:\\Programming\\Anaconda\\envs\\ROTMGAI\\lib\\site-packages\\keras\\engine\\base_layer.py:3075\u001b[0m, in \u001b[0;36mLayer.__setattr__\u001b[1;34m(self, name, value)\u001b[0m\n\u001b[0;32m   3068\u001b[0m \u001b[39mif\u001b[39;00m (\n\u001b[0;32m   3069\u001b[0m     name \u001b[39m==\u001b[39m \u001b[39m\"\u001b[39m\u001b[39m_self_setattr_tracking\u001b[39m\u001b[39m\"\u001b[39m\n\u001b[0;32m   3070\u001b[0m     \u001b[39mor\u001b[39;00m \u001b[39mnot\u001b[39;00m \u001b[39mgetattr\u001b[39m(\u001b[39mself\u001b[39m, \u001b[39m\"\u001b[39m\u001b[39m_self_setattr_tracking\u001b[39m\u001b[39m\"\u001b[39m, \u001b[39mTrue\u001b[39;00m)\n\u001b[0;32m   3071\u001b[0m     \u001b[39m# Exclude @property.setters from tracking\u001b[39;00m\n\u001b[0;32m   3072\u001b[0m     \u001b[39mor\u001b[39;00m \u001b[39mhasattr\u001b[39m(\u001b[39mself\u001b[39m\u001b[39m.\u001b[39m\u001b[39m__class__\u001b[39m, name)\n\u001b[0;32m   3073\u001b[0m ):\n\u001b[0;32m   3074\u001b[0m     \u001b[39mtry\u001b[39;00m:\n\u001b[1;32m-> 3075\u001b[0m         \u001b[39msuper\u001b[39;49m(tf\u001b[39m.\u001b[39;49m__internal__\u001b[39m.\u001b[39;49mtracking\u001b[39m.\u001b[39;49mAutoTrackable, \u001b[39mself\u001b[39;49m)\u001b[39m.\u001b[39;49m\u001b[39m__setattr__\u001b[39;49m(\n\u001b[0;32m   3076\u001b[0m             name, value\n\u001b[0;32m   3077\u001b[0m         )\n\u001b[0;32m   3078\u001b[0m     \u001b[39mexcept\u001b[39;00m \u001b[39mAttributeError\u001b[39;00m:\n\u001b[0;32m   3079\u001b[0m         \u001b[39mraise\u001b[39;00m \u001b[39mAttributeError\u001b[39;00m(\n\u001b[0;32m   3080\u001b[0m             (\n\u001b[0;32m   3081\u001b[0m                 \u001b[39m'\u001b[39m\u001b[39mCan\u001b[39m\u001b[39m\\'\u001b[39;00m\u001b[39mt set the attribute \u001b[39m\u001b[39m\"\u001b[39m\u001b[39m{}\u001b[39;00m\u001b[39m\"\u001b[39m\u001b[39m, likely because it \u001b[39m\u001b[39m'\u001b[39m\n\u001b[1;32m   (...)\u001b[0m\n\u001b[0;32m   3084\u001b[0m             )\u001b[39m.\u001b[39mformat(name)\n\u001b[0;32m   3085\u001b[0m         )\n",
      "File \u001b[1;32md:\\Programming\\Anaconda\\envs\\ROTMGAI\\lib\\site-packages\\tensorflow\\python\\trackable\\base.py:205\u001b[0m, in \u001b[0;36mno_automatic_dependency_tracking.<locals>._method_wrapper\u001b[1;34m(self, *args, **kwargs)\u001b[0m\n\u001b[0;32m    203\u001b[0m \u001b[39mself\u001b[39m\u001b[39m.\u001b[39m_self_setattr_tracking \u001b[39m=\u001b[39m \u001b[39mFalse\u001b[39;00m  \u001b[39m# pylint: disable=protected-access\u001b[39;00m\n\u001b[0;32m    204\u001b[0m \u001b[39mtry\u001b[39;00m:\n\u001b[1;32m--> 205\u001b[0m   result \u001b[39m=\u001b[39m method(\u001b[39mself\u001b[39m, \u001b[39m*\u001b[39margs, \u001b[39m*\u001b[39m\u001b[39m*\u001b[39mkwargs)\n\u001b[0;32m    206\u001b[0m \u001b[39mfinally\u001b[39;00m:\n\u001b[0;32m    207\u001b[0m   \u001b[39mself\u001b[39m\u001b[39m.\u001b[39m_self_setattr_tracking \u001b[39m=\u001b[39m previous_value  \u001b[39m# pylint: disable=protected-access\u001b[39;00m\n",
      "File \u001b[1;32md:\\Programming\\Anaconda\\envs\\ROTMGAI\\lib\\site-packages\\keras\\engine\\base_layer.py:1243\u001b[0m, in \u001b[0;36mLayer.input_spec\u001b[1;34m(self, value)\u001b[0m\n\u001b[0;32m   1241\u001b[0m \u001b[39mfor\u001b[39;00m v \u001b[39min\u001b[39;00m tf\u001b[39m.\u001b[39mnest\u001b[39m.\u001b[39mflatten(value):\n\u001b[0;32m   1242\u001b[0m     \u001b[39mif\u001b[39;00m v \u001b[39mis\u001b[39;00m \u001b[39mnot\u001b[39;00m \u001b[39mNone\u001b[39;00m \u001b[39mand\u001b[39;00m \u001b[39mnot\u001b[39;00m \u001b[39misinstance\u001b[39m(v, input_spec\u001b[39m.\u001b[39mInputSpec):\n\u001b[1;32m-> 1243\u001b[0m         \u001b[39mraise\u001b[39;00m \u001b[39mTypeError\u001b[39;00m(\n\u001b[0;32m   1244\u001b[0m             \u001b[39m\"\u001b[39m\u001b[39mLayer input_spec must be an instance of InputSpec. \u001b[39m\u001b[39m\"\u001b[39m\n\u001b[0;32m   1245\u001b[0m             \u001b[39m\"\u001b[39m\u001b[39mGot: \u001b[39m\u001b[39m{}\u001b[39;00m\u001b[39m\"\u001b[39m\u001b[39m.\u001b[39mformat(v)\n\u001b[0;32m   1246\u001b[0m         )\n\u001b[0;32m   1247\u001b[0m \u001b[39mself\u001b[39m\u001b[39m.\u001b[39m_input_spec \u001b[39m=\u001b[39m value\n",
      "\u001b[1;31mTypeError\u001b[0m: Layer input_spec must be an instance of InputSpec. Got: InputSpec(min_ndim=4)"
     ]
    }
   ],
   "source": [
    "# model = tf.keras.Sequential([\n",
    "#     layers.ComplexConv2D(input_shape=())\n",
    "# ])\n",
    "def get_model():\n",
    "    inputs = layers.ComplexInput(input_shape=(128, 128, 3))\n",
    "    c0 = layers.ComplexConv2D(32, activation=activation_functions.cart_relu, kernel_size=3)(inputs)\n",
    "    c1 = layers.ComplexConv2D(32, activation=activation_functions.cart_relu, kernel_size=3)(c0)\n",
    "    c2 = layers.ComplexMaxPooling2D(pool_size=(2, 2), strides=(2, 2), padding='valid')(c1)\n",
    "    t01 = layers.ComplexConv2DTranspose(5, kernel_size=2, strides=(2, 2), activation=activation_functions.cart_elu)(c2)\n",
    "    concat01 = tf.keras.layers.concatenate([t01, c1], axis=-1)\n",
    "\n",
    "    c3 = layers.ComplexConv2D(4, activation=activation_functions.cart_relu, kernel_size=3)(concat01)\n",
    "    out = layers.ComplexConv2D(4, activation=activation_functions.cart_relu, kernel_size=3)(c3)\n",
    "    return tf.keras.Model(inputs, out)\n",
    "newmodel = get_model()"
   ]
  },
  {
   "cell_type": "code",
   "execution_count": 32,
   "metadata": {},
   "outputs": [
    {
     "name": "stdout",
     "output_type": "stream",
     "text": [
      "^C\n"
     ]
    },
    {
     "name": "stderr",
     "output_type": "stream",
     "text": [
      "ERROR: Could not find a version that satisfies the requirement tensorflow==2.0.0 (from versions: 2.8.0rc1, 2.8.0, 2.8.1, 2.8.2, 2.8.3, 2.8.4, 2.9.0rc0, 2.9.0rc1, 2.9.0rc2, 2.9.0, 2.9.1, 2.9.2, 2.9.3, 2.10.0rc0, 2.10.0rc1, 2.10.0rc2, 2.10.0rc3, 2.10.0, 2.10.1, 2.11.0rc0, 2.11.0rc1, 2.11.0rc2, 2.11.0, 2.11.1, 2.12.0rc0, 2.12.0rc1, 2.12.0)\n",
      "ERROR: No matching distribution found for tensorflow==2.0.0\n"
     ]
    }
   ],
   "source": [
    "!pip uninstall tensorflow \n",
    "!pip install tensorflow==2.0.0"
   ]
  },
  {
   "cell_type": "code",
   "execution_count": 33,
   "metadata": {},
   "outputs": [
    {
     "name": "stdout",
     "output_type": "stream",
     "text": [
      "Num GPUs Available:  0\n"
     ]
    }
   ],
   "source": []
  }
 ],
 "metadata": {
  "kernelspec": {
   "display_name": "ROTMGAI",
   "language": "python",
   "name": "python3"
  },
  "language_info": {
   "codemirror_mode": {
    "name": "ipython",
    "version": 3
   },
   "file_extension": ".py",
   "mimetype": "text/x-python",
   "name": "python",
   "nbconvert_exporter": "python",
   "pygments_lexer": "ipython3",
   "version": "3.10.10"
  },
  "orig_nbformat": 4
 },
 "nbformat": 4,
 "nbformat_minor": 2
}
