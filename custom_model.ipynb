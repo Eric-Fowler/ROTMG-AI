{
 "cells": [
  {
   "cell_type": "code",
   "execution_count": 1,
   "metadata": {},
   "outputs": [],
   "source": [
    "import numpy as np\n",
    "import matplotlib.pyplot as plt\n",
    "import tensorflow as tf"
   ]
  },
  {
   "cell_type": "code",
   "execution_count": 3,
   "metadata": {},
   "outputs": [
    {
     "name": "stdout",
     "output_type": "stream",
     "text": [
      "[0.00523358 0.30512563 0.99220199 0.14308909 0.72941514]\n",
      "(5,)\n"
     ]
    }
   ],
   "source": [
    "n = 5\n",
    "x = np.random.random(n)\n",
    "print(x)\n",
    "print(x.shape)"
   ]
  },
  {
   "cell_type": "code",
   "execution_count": 57,
   "metadata": {},
   "outputs": [
    {
     "name": "stdout",
     "output_type": "stream",
     "text": [
      "(4, 1)\n",
      "(4, 1)\n",
      "(3, 4)\n",
      "[[1.0088957 -0.0012945j ]\n",
      " [1.01974426-0.00913038j]\n",
      " [1.01602241+0.00503931j]\n",
      " [0.99765409-0.00298784j]]\n"
     ]
    }
   ],
   "source": [
    "# 3,4,2\n",
    "# nin = 2\n",
    "i = (-1)**(1/2)\n",
    "nout = 4\n",
    "\n",
    "x = np.array([[1.],[2.],[3.]]) # nin = 2\n",
    "\n",
    "nin = x.shape[0]\n",
    "\n",
    "wr = np.random.random(size=(nin,nout))\n",
    "wi = np.random.random(size=(nin,nout))\n",
    "\n",
    "br = np.random.random((nout,1))\n",
    "bi = np.random.random((nout,1))\n",
    "\n",
    "sum = wr.T@x+br+i*wi.T@x+bi\n",
    "\n",
    "sigout = 1/(1+np.exp(-sum))\n",
    "sigdev = sigout*(1-sigout) # https://inst.eecs.berkeley.edu/~cs182/sp06/notes/backprop.pdf\n",
    "\n",
    "\n",
    "# print(wr)\n",
    "print(sigout.shape)\n",
    "print(sigdev.shape)\n",
    "print(wr.shape)\n",
    "\n",
    "outshape = 2\n",
    "\n",
    "losses = np.random.random((outshape,1))\n",
    "\n",
    "\n",
    "\n",
    "loss_per_weightr = sigout\n",
    "print(loss_per_weightr)\n",
    "\n",
    "# loss_per_weightr =  # is this correct? I'm not really sure. check the chain rule"
   ]
  },
  {
   "cell_type": "code",
   "execution_count": null,
   "metadata": {},
   "outputs": [],
   "source": [
    "class linear():\n",
    "    def __init__ (nin,nout):\n",
    "        self.w = np.random.random(nin,nout)\n",
    "    def activation_functioN(self,name=None):\n",
    "        pass"
   ]
  },
  {
   "cell_type": "code",
   "execution_count": 4,
   "metadata": {},
   "outputs": [
    {
     "ename": "SyntaxError",
     "evalue": "expected ':' (1876767880.py, line 1)",
     "output_type": "error",
     "traceback": [
      "\u001b[1;36m  Cell \u001b[1;32mIn[4], line 1\u001b[1;36m\u001b[0m\n\u001b[1;33m    class Model()\u001b[0m\n\u001b[1;37m                 ^\u001b[0m\n\u001b[1;31mSyntaxError\u001b[0m\u001b[1;31m:\u001b[0m expected ':'\n"
     ]
    }
   ],
   "source": [
    "class Model():\n",
    "    def __init__(self,):\n",
    "        pass\n",
    "    def call(self,x):\n",
    "        pass\n",
    "\n"
   ]
  },
  {
   "cell_type": "code",
   "execution_count": null,
   "metadata": {},
   "outputs": [],
   "source": []
  }
 ],
 "metadata": {
  "kernelspec": {
   "display_name": "ROTMGAI",
   "language": "python",
   "name": "python3"
  },
  "language_info": {
   "codemirror_mode": {
    "name": "ipython",
    "version": 3
   },
   "file_extension": ".py",
   "mimetype": "text/x-python",
   "name": "python",
   "nbconvert_exporter": "python",
   "pygments_lexer": "ipython3",
   "version": "3.11.2"
  },
  "orig_nbformat": 4
 },
 "nbformat": 4,
 "nbformat_minor": 2
}
