{
 "cells": [
  {
   "cell_type": "code",
   "execution_count": null,
   "metadata": {},
   "outputs": [],
   "source": [
    "import tensorflow as tf\n",
    "import keras\n",
    "import numpy as np\n",
    "import matplotlib.pyplot as plt"
   ]
  },
  {
   "cell_type": "code",
   "execution_count": null,
   "metadata": {},
   "outputs": [],
   "source": [
    "# class MyModel(tf.keras.Model):\n",
    "#     def __init__(self):\n",
    "#         super().__init__()\n",
    "#         # self.Inputs = tf.keras.Input(shape=(1,))\n",
    "#         self.Inputs = tf.keras.Input(shape=(1,))\n",
    "#         self.r1 = tf.keras.layers.Dense(4,activation = None)(self.Inputs)\n",
    "#     def call(self,inputs):\n",
    "#         print(inputs)\n",
    "#         x = self.r1(inputs)\n",
    "#         print(x)\n",
    "#         return x\n",
    "# model  = MyModel()\n",
    "# model.build([1,2])\n",
    "# model.summary()"
   ]
  },
  {
   "cell_type": "code",
   "execution_count": 67,
   "metadata": {},
   "outputs": [],
   "source": [
    "#this is the base example\n",
    "class Linear(keras.layers.Layer): # https://www.tensorflow.org/guide/keras/custom_layers_and_models\n",
    "    def __init__(self, units=32, input_dim=32):\n",
    "        super(Linear, self).__init__()\n",
    "        w_init = tf.random_normal_initializer()\n",
    "        self.w = tf.Variable(\n",
    "            initial_value=w_init(shape=(input_dim, units), dtype=\"float32\"),\n",
    "            trainable=True,\n",
    "        )\n",
    "        b_init = tf.zeros_initializer()\n",
    "        self.b = tf.Variable(\n",
    "            initial_value=b_init(shape=(units,), dtype=\"float32\"), trainable=True\n",
    "        )\n",
    "\n",
    "    def call(self, inputs):\n",
    "        return tf.matmul(inputs, self.w) + self.b"
   ]
  },
  {
   "cell_type": "code",
   "execution_count": 86,
   "metadata": {},
   "outputs": [],
   "source": [
    "#this is the base example\n",
    "class Complex(keras.layers.Layer): # https://www.tensorflow.org/guide/keras/custom_layers_and_models\n",
    "    def __init__(self, units=32, input_dim=32):\n",
    "        super(Complex, self).__init__()\n",
    "        w_init = tf.random_normal_initializer()\n",
    "        self.wr = tf.Variable(\n",
    "            initial_value=w_init(shape=(input_dim, units), dtype=\"float32\"),\n",
    "            trainable=True,\n",
    "        )\n",
    "        self.wi = tf.Variable(\n",
    "            initial_value=w_init(shape=(input_dim, units), dtype=\"float32\"),\n",
    "            trainable=True,\n",
    "        )\n",
    "        b_init = tf.zeros_initializer()\n",
    "        self.br = tf.Variable(\n",
    "            initial_value=b_init(shape=(units,), dtype=\"float32\"), trainable=True\n",
    "        )\n",
    "        self.bi = tf.Variable(\n",
    "            initial_value=b_init(shape=(units,), dtype=\"float32\"), trainable=True\n",
    "        )\n",
    "\n",
    "    def call(self, inputs):\n",
    "        return tf.matmul(inputs, self.wr) + self.br + i*tf.matmul(inputs,self.wi) + self.bi"
   ]
  },
  {
   "cell_type": "code",
   "execution_count": 87,
   "metadata": {},
   "outputs": [
    {
     "ename": "TypeError",
     "evalue": "Exception encountered when calling layer \"complex_10\" \"                 f\"(type Complex).\n\nCannot convert (6.123233995736766e-17+1j) to EagerTensor of dtype float\n\nCall arguments received by layer \"complex_10\" \"                 f\"(type Complex):\n  • inputs=tf.Tensor(shape=(2, 2), dtype=float32)",
     "output_type": "error",
     "traceback": [
      "\u001b[1;31m---------------------------------------------------------------------------\u001b[0m",
      "\u001b[1;31mTypeError\u001b[0m                                 Traceback (most recent call last)",
      "Cell \u001b[1;32mIn[87], line 6\u001b[0m\n\u001b[0;32m      4\u001b[0m complex_layer \u001b[39m=\u001b[39m Complex(\u001b[39m4\u001b[39m,\u001b[39m2\u001b[39m)\n\u001b[0;32m      5\u001b[0m y \u001b[39m=\u001b[39m linear_layer(x)\n\u001b[1;32m----> 6\u001b[0m y \u001b[39m=\u001b[39m complex_layer(x)\n\u001b[0;32m      7\u001b[0m \u001b[39mprint\u001b[39m(y)\n",
      "File \u001b[1;32md:\\Programming\\Anaconda\\envs\\ROTMGAI\\lib\\site-packages\\keras\\utils\\traceback_utils.py:70\u001b[0m, in \u001b[0;36mfilter_traceback.<locals>.error_handler\u001b[1;34m(*args, **kwargs)\u001b[0m\n\u001b[0;32m     67\u001b[0m     filtered_tb \u001b[39m=\u001b[39m _process_traceback_frames(e\u001b[39m.\u001b[39m__traceback__)\n\u001b[0;32m     68\u001b[0m     \u001b[39m# To get the full stack trace, call:\u001b[39;00m\n\u001b[0;32m     69\u001b[0m     \u001b[39m# `tf.debugging.disable_traceback_filtering()`\u001b[39;00m\n\u001b[1;32m---> 70\u001b[0m     \u001b[39mraise\u001b[39;00m e\u001b[39m.\u001b[39mwith_traceback(filtered_tb) \u001b[39mfrom\u001b[39;00m \u001b[39mNone\u001b[39m\n\u001b[0;32m     71\u001b[0m \u001b[39mfinally\u001b[39;00m:\n\u001b[0;32m     72\u001b[0m     \u001b[39mdel\u001b[39;00m filtered_tb\n",
      "Cell \u001b[1;32mIn[86], line 23\u001b[0m, in \u001b[0;36mComplex.call\u001b[1;34m(self, inputs)\u001b[0m\n\u001b[0;32m     22\u001b[0m \u001b[39mdef\u001b[39;00m \u001b[39mcall\u001b[39m(\u001b[39mself\u001b[39m, inputs):\n\u001b[1;32m---> 23\u001b[0m     \u001b[39mreturn\u001b[39;00m tf\u001b[39m.\u001b[39mmatmul(inputs, \u001b[39mself\u001b[39m\u001b[39m.\u001b[39mwr) \u001b[39m+\u001b[39m \u001b[39mself\u001b[39m\u001b[39m.\u001b[39mbr \u001b[39m+\u001b[39m i\u001b[39m*\u001b[39;49mtf\u001b[39m.\u001b[39;49mmatmul(inputs,\u001b[39mself\u001b[39;49m\u001b[39m.\u001b[39;49mwi) \u001b[39m+\u001b[39m \u001b[39mself\u001b[39m\u001b[39m.\u001b[39mbi\n",
      "\u001b[1;31mTypeError\u001b[0m: Exception encountered when calling layer \"complex_10\" \"                 f\"(type Complex).\n\nCannot convert (6.123233995736766e-17+1j) to EagerTensor of dtype float\n\nCall arguments received by layer \"complex_10\" \"                 f\"(type Complex):\n  • inputs=tf.Tensor(shape=(2, 2), dtype=float32)"
     ]
    }
   ],
   "source": [
    "i = (-1)**0.5\n",
    "x = tf.ones((2, 2))\n",
    "linear_layer = Linear(4,2)\n",
    "complex_layer = Complex(4,2)\n",
    "y = linear_layer(x)\n",
    "y = complex_layer(x)\n",
    "print(y)"
   ]
  },
  {
   "cell_type": "code",
   "execution_count": null,
   "metadata": {},
   "outputs": [],
   "source": [
    "i = (-1)**0.5\n",
    "inputs = keras.Input(shape=(2,))\n",
    "layer1r = keras.layers.Dense(4, activation=\"sigmoid\")(inputs)\n",
    "layer2 = keras.layers.Dense(2,activation=None)(layer1r)\n",
    "model = keras.models.Model(inputs=inputs, outputs=layer2)\n",
    "model.summary()"
   ]
  },
  {
   "cell_type": "code",
   "execution_count": null,
   "metadata": {},
   "outputs": [],
   "source": [
    "print(tf.math.exp(5.0))\n",
    "\n",
    "print(tf.math.exp(i))\n",
    "print(tf.math.tanh(1+i))\n",
    "print(tf.math.sigmoid(1+100*i))"
   ]
  }
 ],
 "metadata": {
  "kernelspec": {
   "display_name": "ROTMGAI",
   "language": "python",
   "name": "python3"
  },
  "language_info": {
   "codemirror_mode": {
    "name": "ipython",
    "version": 3
   },
   "file_extension": ".py",
   "mimetype": "text/x-python",
   "name": "python",
   "nbconvert_exporter": "python",
   "pygments_lexer": "ipython3",
   "version": "3.11.2"
  },
  "orig_nbformat": 4
 },
 "nbformat": 4,
 "nbformat_minor": 2
}
